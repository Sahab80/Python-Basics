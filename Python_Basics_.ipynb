{
  "nbformat": 4,
  "nbformat_minor": 0,
  "metadata": {
    "colab": {
      "provenance": []
    },
    "kernelspec": {
      "name": "python3",
      "display_name": "Python 3"
    },
    "language_info": {
      "name": "python"
    }
  },
  "cells": [
    {
      "cell_type": "markdown",
      "source": [
        "Q1. What is Python, and why is it popular ?\n",
        "\n",
        "-> Python is a popular programming language that's easy to read and write. People love it because:\n",
        "\n",
        "- It's simple and beginner-friendly.\n",
        "\n",
        "- You can use it for almost anything—websites, apps, data analysis, AI, automation, and more.\n",
        "\n",
        "- It has tons of free tools and libraries that save time.\n",
        "\n",
        " Python is powerful, easy to learn, and super flexible."
      ],
      "metadata": {
        "id": "sERp-FZcSsbO"
      }
    },
    {
      "cell_type": "markdown",
      "source": [
        "Q2. What is an interpreter in Python ?\n",
        "\n",
        "-> An interpreter in Python is the tool that reads and runs your code one line at a time.\n",
        "\n",
        "In simple words:\n",
        "\n",
        "It's like a translator that reads your Python instructions and tells the computer what to do, step by step."
      ],
      "metadata": {
        "id": "eFzSYuXElRDP"
      }
    },
    {
      "cell_type": "markdown",
      "source": [
        "Q3. What are pre-defined keywords in Python ?\n",
        "\n",
        "-> An interpreter in Python is the tool that reads and runs your code one line at a time.\n",
        "\n",
        "In simple words:\n",
        "\n",
        "It's like a translator that reads your Python instructions and tells the computer what to do, step by step.\n"
      ],
      "metadata": {
        "id": "7L3wehNTl8OY"
      }
    },
    {
      "cell_type": "markdown",
      "source": [
        "Q4. Can keywords be used as variable names ?\n",
        "\n",
        "-> No, keywords can't be used as variable names in Python."
      ],
      "metadata": {
        "id": "3_F1QRP7mJUn"
      }
    },
    {
      "cell_type": "markdown",
      "source": [
        "Q5. What is mutability in Python ?\n",
        "\n",
        "->Mutable objects, such as lists and dictionaries, can be modified after creation,"
      ],
      "metadata": {
        "id": "kb7NM3qREQo6"
      }
    },
    {
      "cell_type": "markdown",
      "source": [
        "Q6. Why are lists mutable, but tuples are immutable ?\n",
        "\n",
        "-> Lists are mutable because we can change, add, or remove items after creating them.\n",
        "Tuples are immutable because they are meant to stay the same once created."
      ],
      "metadata": {
        "id": "9XZ6iy-YE76x"
      }
    },
    {
      "cell_type": "markdown",
      "source": [
        "Q7. What is the difference between “==” and “is” operators in Python ?\n",
        "\n",
        "ans-\n",
        "- '==' checks if values are the same\n",
        "- 'is' checks if they are the exact same object in memory"
      ],
      "metadata": {
        "id": "ZgjHGyWoFnMY"
      }
    },
    {
      "cell_type": "markdown",
      "source": [
        "Q8. What are logical operators in Python ?\n",
        "\n",
        " Logical operators are used to combine multiple conditions.\n",
        "- the main logical operators are:\n",
        "1. and -True if both conditions are true.\n",
        "2. or -True if atleast one condition are true\n",
        "3. not - Reverses the condition (True becomes False, and vice versa)"
      ],
      "metadata": {
        "id": "aTPsiWslGlnJ"
      }
    },
    {
      "cell_type": "markdown",
      "source": [
        "Q9. What is type casting in Python ?\n",
        "\n",
        "Type casting in Python means changing the type of a value from one data type to another.\n",
        "\n",
        "For example, turning a string into a number, or a number into a string:\n"
      ],
      "metadata": {
        "id": "YOi-xv4CYFNZ"
      }
    },
    {
      "cell_type": "code",
      "source": [
        "x = \"5\"\n",
        "y = int(x)  # Now y is the number 5, not the string \"5\""
      ],
      "metadata": {
        "id": "OU7STJjJYbWi"
      },
      "execution_count": 1,
      "outputs": []
    },
    {
      "cell_type": "markdown",
      "source": [
        "Q10. What is the difference between implicit and explicit type casting ?\n",
        "\n",
        "-> Difference between Implicit and Explicit Type Casting (in short and simple terms):\n",
        "\n",
        "- Implicit Type Casting:\n",
        "Python automatically converts one data type to another when it's safe.\n",
        "->Example: int + float → result is float.\n",
        "\n",
        "- Explicit Type Casting:\n",
        "You manually convert one data type to another using functions like int(), float(), or str().\n",
        "->Example: int(\"5\") → converts string \"5\" to number 5."
      ],
      "metadata": {
        "id": "UITeljFzZHXx"
      }
    }
  ]
}